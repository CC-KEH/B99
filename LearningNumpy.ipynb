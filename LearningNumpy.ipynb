{
  "nbformat": 4,
  "nbformat_minor": 0,
  "metadata": {
    "colab": {
      "name": "Untitled0.ipynb",
      "provenance": [],
      "collapsed_sections": [],
      "authorship_tag": "ABX9TyOVJlskFs+WbJyaS+lvLFzz",
      "include_colab_link": true
    },
    "kernelspec": {
      "name": "python3",
      "display_name": "Python 3"
    },
    "language_info": {
      "name": "python"
    }
  },
  "cells": [
    {
      "cell_type": "markdown",
      "metadata": {
        "id": "view-in-github",
        "colab_type": "text"
      },
      "source": [
        "<a href=\"https://colab.research.google.com/github/CC-KEH/B99/blob/main/LearningNumpy.ipynb\" target=\"_parent\"><img src=\"https://colab.research.google.com/assets/colab-badge.svg\" alt=\"Open In Colab\"/></a>"
      ]
    },
    {
      "cell_type": "markdown",
      "source": [
        "# Numpy\n"
      ],
      "metadata": {
        "id": "FvhOOO_Xoxc9"
      }
    },
    {
      "cell_type": "code",
      "source": [
        "import numpy as np\n",
        "ar = np.array([1,2,3,4,5,6,7.5],dtype = \"int32\")\n",
        "print(ar)\n",
        "print(ar.dtype) #Get datatype of array\n",
        "print(ar.ndim) #Get dimension of array\n",
        "print(ar.itemsize) #Get array item size"
      ],
      "metadata": {
        "colab": {
          "base_uri": "https://localhost:8080/"
        },
        "id": "fOPapcm-rEHK",
        "outputId": "120ff86e-3cd1-4604-fa66-7088083a1a65"
      },
      "execution_count": 9,
      "outputs": [
        {
          "output_type": "stream",
          "name": "stdout",
          "text": [
            "[1 2 3 4 5 6 7]\n"
          ]
        },
        {
          "output_type": "execute_result",
          "data": {
            "text/plain": [
              "1"
            ]
          },
          "metadata": {},
          "execution_count": 9
        }
      ]
    },
    {
      "cell_type": "markdown",
      "source": [
        ""
      ],
      "metadata": {
        "id": "0fUHqPY70Mvs"
      }
    },
    {
      "cell_type": "code",
      "source": [
        "a = np.arange(1000)\n",
        "print(a)\n",
        "%time a.sum() #numpy  function\n",
        "%time sum(a)  #python function"
      ],
      "metadata": {
        "id": "5UNN4WPJs19w"
      },
      "execution_count": null,
      "outputs": []
    },
    {
      "cell_type": "markdown",
      "source": [
        "**Shallow Copy**: Changes done with b's elements can also be seen in ar's elements, because they have same reference "
      ],
      "metadata": {
        "id": "VMkVuW1ruDbQ"
      }
    },
    {
      "cell_type": "code",
      "source": [
        "b = ar[2:4]\n",
        "print(b)\n",
        "print(ar)\n",
        "b[0] = 100\n",
        "print(b)\n",
        "print(ar)"
      ],
      "metadata": {
        "id": "7tz_ZKlstYSo"
      },
      "execution_count": null,
      "outputs": []
    },
    {
      "cell_type": "markdown",
      "source": [
        "**Deep Copy**: Changes done with c will not affect ar"
      ],
      "metadata": {
        "id": "BK_J2z-NulJ4"
      }
    },
    {
      "cell_type": "code",
      "source": [
        "c = ar[3:5].copy()\n",
        "c[0] = 10000\n",
        "print(c)\n",
        "print(ar)"
      ],
      "metadata": {
        "id": "1g0i_sM2ur6I"
      },
      "execution_count": null,
      "outputs": []
    },
    {
      "cell_type": "markdown",
      "source": [
        "**2D Array and Slicing**"
      ],
      "metadata": {
        "id": "iOu9DaMtysSO"
      }
    },
    {
      "cell_type": "code",
      "source": [
        "ta = np.array([[1,2,3,4,5,6,7],\n",
        "              [8,9,10,11,12,13,14],\n",
        "               [7,6,5,4,3,2,1]])\n",
        "ta[0:2,0:3]"
      ],
      "metadata": {
        "id": "X0jJbZMpvz6P"
      },
      "execution_count": null,
      "outputs": []
    },
    {
      "cell_type": "markdown",
      "source": [
        "**Concatenate**: Concatenating 2 arrays into 1 array ie ar and b into c\n"
      ],
      "metadata": {
        "id": "7Eeq-LMkyn88"
      }
    },
    {
      "cell_type": "code",
      "source": [
        "c = np.concatenate([ar,b])\n",
        "c"
      ],
      "metadata": {
        "id": "ogiYqSHAxIMu"
      },
      "execution_count": null,
      "outputs": []
    },
    {
      "cell_type": "markdown",
      "source": [
        "**Split function**: here splitme(array) is split into 4 arrays via [6,13,18] where 1st slit is from 0 to 5, 2nd is from 6 to 12, 3rd is from 13 to 17 and 4th is from 18 to 19."
      ],
      "metadata": {
        "id": "nD1xCu-Vykxk"
      }
    },
    {
      "cell_type": "code",
      "source": [
        "splitme = np.arange(20)\n",
        "a1,a2,a3,a4 = np.split(splitme,[6,13,18]) \n",
        "print(a1)\n",
        "print(a2)\n",
        "print(a3)\n",
        "print(a4)"
      ],
      "metadata": {
        "id": "-Lw2PEpxx2Uz"
      },
      "execution_count": null,
      "outputs": []
    }
  ]
}